{
 "cells": [
  {
   "cell_type": "markdown",
   "id": "188fb1d8",
   "metadata": {},
   "source": [
    "# Basic"
   ]
  },
  {
   "cell_type": "code",
   "execution_count": 1,
   "id": "a7b6d96f",
   "metadata": {},
   "outputs": [
    {
     "name": "stdout",
     "output_type": "stream",
     "text": [
      "hello\n"
     ]
    }
   ],
   "source": [
    "print(\"hello\")"
   ]
  },
  {
   "cell_type": "markdown",
   "id": "898ae55a",
   "metadata": {},
   "source": [
    " - DS - interdisiplinary field that uses methods, processes and systems to extract knowledge or insights from data\n",
    " - steps\n",
    "   - data collection\n",
    "   - data cleaning / preparation -  so that it is ready for analysis\n",
    "   - exploratory data analysis (EDA) - to understand the data\n",
    "   - data modeling - to create predictive models\n",
    "   - data visualization - to communicate findings\n",
    "   - model evaluation - to assess model performance\n",
    "   - deployment - to integrate model into production"
   ]
  },
  {
   "cell_type": "markdown",
   "id": "d465c9e3",
   "metadata": {},
   "source": [
    "# Pandas\n",
    "- lib for data manipulation and analysis\n",
    "- DataFrame and Series - structures for tabular and 1D data\n",
    "- Read/write - load/save data from CSV, Excel, SQL, etc.\n",
    "- Powerful indexing and slicing - filter, group, pivot tables and more\n",
    "- Handling missing data - for detecting and filling missing values"
   ]
  },
  {
   "cell_type": "markdown",
   "id": "69ba0425",
   "metadata": {},
   "source": [
    "## Dataframe related basics\n",
    "used coz easier to analyze and everything"
   ]
  },
  {
   "cell_type": "code",
   "execution_count": null,
   "id": "7b40066c",
   "metadata": {},
   "outputs": [
    {
     "name": "stdout",
     "output_type": "stream",
     "text": [
      "   A  B     C\n",
      "0  1  x  0.50\n",
      "1  2  y  0.75\n",
      "2  3  z  1.00\n",
      "   A  B     C\n",
      "0  1  x  0.50\n",
      "1  2  y  0.75\n",
      "2  3  z  1.00\n"
     ]
    }
   ],
   "source": [
    "import pandas as pd\n",
    "\n",
    "data = {\n",
    "    'A' : [1, 2, 3],\n",
    "    'B' : ['x', 'y', 'z'],\n",
    "    'C' : [0.5, 0.75, 1.0]\n",
    "}\n",
    "\n",
    "df = pd.DataFrame(data)\n",
    "print(df)"
   ]
  },
  {
   "cell_type": "code",
   "execution_count": 13,
   "id": "46c0a250",
   "metadata": {},
   "outputs": [
    {
     "name": "stdout",
     "output_type": "stream",
     "text": [
      "   A  B     C\n",
      "0  1  x  0.50\n",
      "1  2  y  0.75\n",
      "--------------\n",
      "   A  B    C\n",
      "2  3  z  1.0\n",
      "-----Shape---------\n",
      "(3, 3)\n",
      "-------Info-------\n",
      "<class 'pandas.core.frame.DataFrame'>\n",
      "RangeIndex: 3 entries, 0 to 2\n",
      "Data columns (total 3 columns):\n",
      " #   Column  Non-Null Count  Dtype  \n",
      "---  ------  --------------  -----  \n",
      " 0   A       3 non-null      int64  \n",
      " 1   B       3 non-null      object \n",
      " 2   C       3 non-null      float64\n",
      "dtypes: float64(1), int64(1), object(1)\n",
      "memory usage: 200.0+ bytes\n",
      "None\n",
      "-------Describe-------\n",
      "         A      C\n",
      "count  3.0  3.000\n",
      "mean   2.0  0.750\n",
      "std    1.0  0.250\n",
      "min    1.0  0.500\n",
      "25%    1.5  0.625\n",
      "50%    2.0  0.750\n",
      "75%    2.5  0.875\n",
      "max    3.0  1.000\n"
     ]
    }
   ],
   "source": [
    "print(df.head(2))\n",
    "print(\"--------------\")\n",
    "print(df.tail(1))\n",
    "print(\"-----Shape---------\")\n",
    "print(df.shape)\n",
    "print(\"-------Info-------\")\n",
    "print(df.info())\n",
    "print(\"-------Describe-------\")\n",
    "print(df.describe())"
   ]
  },
  {
   "cell_type": "code",
   "execution_count": null,
   "id": "97d8d1f6",
   "metadata": {},
   "outputs": [
    {
     "name": "stdout",
     "output_type": "stream",
     "text": [
      "-------Describe-------\n",
      "         A      C\n",
      "count  3.0  3.000\n",
      "mean   2.0  0.750\n",
      "std    1.0  0.250\n",
      "min    1.0  0.500\n",
      "25%    1.5  0.625\n",
      "50%    2.0  0.750\n",
      "75%    2.5  0.875\n",
      "max    3.0  1.000\n"
     ]
    }
   ],
   "source": []
  }
 ],
 "metadata": {
  "kernelspec": {
   "display_name": "Python 3",
   "language": "python",
   "name": "python3"
  },
  "language_info": {
   "codemirror_mode": {
    "name": "ipython",
    "version": 3
   },
   "file_extension": ".py",
   "mimetype": "text/x-python",
   "name": "python",
   "nbconvert_exporter": "python",
   "pygments_lexer": "ipython3",
   "version": "3.9.0"
  }
 },
 "nbformat": 4,
 "nbformat_minor": 5
}
