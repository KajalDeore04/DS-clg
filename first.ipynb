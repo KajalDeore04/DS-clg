{
 "cells": [
  {
   "cell_type": "markdown",
   "id": "188fb1d8",
   "metadata": {},
   "source": [
    "# Basic"
   ]
  },
  {
   "cell_type": "code",
   "execution_count": 1,
   "id": "a7b6d96f",
   "metadata": {},
   "outputs": [
    {
     "name": "stdout",
     "output_type": "stream",
     "text": [
      "hello\n"
     ]
    }
   ],
   "source": [
    "print(\"hello\")"
   ]
  },
  {
   "cell_type": "markdown",
   "id": "898ae55a",
   "metadata": {},
   "source": [
    " - DS - interdisiplinary field that uses methods, processes and systems to extract knowledge or insights from data\n",
    " - steps\n",
    "   - data collection\n",
    "   - data cleaning / preparation -  so that it is ready for analysis\n",
    "   - exploratory data analysis (EDA) - to understand the data\n",
    "   - data modeling - to create predictive models\n",
    "   - data visualization - to communicate findings\n",
    "   - model evaluation - to assess model performance\n",
    "   - deployment - to integrate model into production"
   ]
  },
  {
   "cell_type": "markdown",
   "id": "d465c9e3",
   "metadata": {},
   "source": [
    "# Pandas\n",
    "- lib for data manipulation and analysis\n",
    "- DataFrame and Series - structures for tabular and 1D data\n",
    "- Read/write - load/save data from CSV, Excel, SQL, etc.\n",
    "- Powerful indexing and slicing - filter, group, pivot tables and more\n",
    "- Handling missing data - for detecting and filling missing values"
   ]
  },
  {
   "cell_type": "markdown",
   "id": "69ba0425",
   "metadata": {},
   "source": [
    "## Dataframe related basics\n",
    "used coz easier to analyze and everything"
   ]
  },
  {
   "cell_type": "code",
   "execution_count": null,
   "id": "7b40066c",
   "metadata": {},
   "outputs": [
    {
     "name": "stdout",
     "output_type": "stream",
     "text": [
      "   A  B     C\n",
      "0  1  x  0.50\n",
      "1  2  y  0.75\n",
      "2  3  z  1.00\n",
      "   A  B     C\n",
      "0  1  x  0.50\n",
      "1  2  y  0.75\n",
      "2  3  z  1.00\n"
     ]
    }
   ],
   "source": [
    "import pandas as pd\n",
    "\n",
    "data = {\n",
    "    'A' : [1, 2, 3],\n",
    "    'B' : ['x', 'y', 'z'],\n",
    "    'C' : [0.5, 0.75, 1.0]\n",
    "}\n",
    "\n",
    "df = pd.DataFrame(data)\n",
    "print(df)"
   ]
  },
  {
   "cell_type": "code",
   "execution_count": 13,
   "id": "46c0a250",
   "metadata": {},
   "outputs": [
    {
     "name": "stdout",
     "output_type": "stream",
     "text": [
      "   A  B     C\n",
      "0  1  x  0.50\n",
      "1  2  y  0.75\n",
      "--------------\n",
      "   A  B    C\n",
      "2  3  z  1.0\n",
      "-----Shape---------\n",
      "(3, 3)\n",
      "-------Info-------\n",
      "<class 'pandas.core.frame.DataFrame'>\n",
      "RangeIndex: 3 entries, 0 to 2\n",
      "Data columns (total 3 columns):\n",
      " #   Column  Non-Null Count  Dtype  \n",
      "---  ------  --------------  -----  \n",
      " 0   A       3 non-null      int64  \n",
      " 1   B       3 non-null      object \n",
      " 2   C       3 non-null      float64\n",
      "dtypes: float64(1), int64(1), object(1)\n",
      "memory usage: 200.0+ bytes\n",
      "None\n",
      "-------Describe-------\n",
      "         A      C\n",
      "count  3.0  3.000\n",
      "mean   2.0  0.750\n",
      "std    1.0  0.250\n",
      "min    1.0  0.500\n",
      "25%    1.5  0.625\n",
      "50%    2.0  0.750\n",
      "75%    2.5  0.875\n",
      "max    3.0  1.000\n"
     ]
    }
   ],
   "source": [
    "print(df.head(2))\n",
    "print(\"--------------\")\n",
    "print(df.tail(1))\n",
    "print(\"-----Shape---------\")\n",
    "print(df.shape)\n",
    "print(\"-------Info-------\")\n",
    "print(df.info())\n",
    "print(\"-------Describe-------\")\n",
    "print(df.describe())"
   ]
  },
  {
   "cell_type": "code",
   "execution_count": 16,
   "id": "97d8d1f6",
   "metadata": {},
   "outputs": [
    {
     "name": "stdout",
     "output_type": "stream",
     "text": [
      "A      1\n",
      "B      x\n",
      "C    0.5\n",
      "Name: 0, dtype: object\n",
      "1\n"
     ]
    }
   ],
   "source": [
    "print(df.iloc[0])  # Accessing the first row\n",
    "print(df.loc[0, 'A'])  # Accessing the value in the first row and column 'A'"
   ]
  },
  {
   "cell_type": "markdown",
   "id": "2dc6f8bb",
   "metadata": {},
   "source": [
    "- loc for label-based indexing\n",
    "- iloc for position-based indexing"
   ]
  },
  {
   "cell_type": "code",
   "execution_count": 37,
   "id": "c190d518",
   "metadata": {},
   "outputs": [
    {
     "name": "stdout",
     "output_type": "stream",
     "text": [
      "Name      ABC\n",
      "Score      85\n",
      "Passed    Yes\n",
      "Name: a, dtype: object\n",
      "--------------\n",
      "DEF\n",
      "--------------\n",
      "Name      ABC\n",
      "Score      85\n",
      "Passed    Yes\n",
      "Name: a, dtype: object\n",
      "--------------\n",
      "DEF\n",
      "--------------\n",
      "  Name  Score Passed\n",
      "a  ABC     85    Yes\n",
      "b  DEF     90    Yes\n",
      "--------------\n",
      "  Name\n",
      "a  ABC\n",
      "b  DEF\n"
     ]
    },
    {
     "data": {
      "text/html": [
       "<div>\n",
       "<style scoped>\n",
       "    .dataframe tbody tr th:only-of-type {\n",
       "        vertical-align: middle;\n",
       "    }\n",
       "\n",
       "    .dataframe tbody tr th {\n",
       "        vertical-align: top;\n",
       "    }\n",
       "\n",
       "    .dataframe thead th {\n",
       "        text-align: right;\n",
       "    }\n",
       "</style>\n",
       "<table border=\"1\" class=\"dataframe\">\n",
       "  <thead>\n",
       "    <tr style=\"text-align: right;\">\n",
       "      <th></th>\n",
       "      <th>A</th>\n",
       "      <th>B</th>\n",
       "      <th>C</th>\n",
       "    </tr>\n",
       "  </thead>\n",
       "  <tbody>\n",
       "    <tr>\n",
       "      <th>0</th>\n",
       "      <td>1</td>\n",
       "      <td>x</td>\n",
       "      <td>0.50</td>\n",
       "    </tr>\n",
       "    <tr>\n",
       "      <th>1</th>\n",
       "      <td>2</td>\n",
       "      <td>y</td>\n",
       "      <td>0.75</td>\n",
       "    </tr>\n",
       "    <tr>\n",
       "      <th>2</th>\n",
       "      <td>3</td>\n",
       "      <td>z</td>\n",
       "      <td>1.00</td>\n",
       "    </tr>\n",
       "  </tbody>\n",
       "</table>\n",
       "</div>"
      ],
      "text/plain": [
       "   A  B     C\n",
       "0  1  x  0.50\n",
       "1  2  y  0.75\n",
       "2  3  z  1.00"
      ]
     },
     "execution_count": 37,
     "metadata": {},
     "output_type": "execute_result"
    }
   ],
   "source": [
    "data2 = {\n",
    "    'Name': ['ABC', 'DEF', 'GHI'],\n",
    "    'Score' : [85, 90, 95],\n",
    "    'Passed' : ['Yes', 'Yes', 'Yes']\n",
    "}\n",
    "\n",
    "df2 = pd.DataFrame(data2, index=['a', 'b', 'c'])\n",
    "\n",
    "print(df2.loc['a'])  # Accessing the row with index 'a'\n",
    "print(\"--------------\")\n",
    "print(df2.loc['b', 'Name']) # Accessing the 'Name' column of row with index 'b'\n",
    "print(\"--------------\")\n",
    "print(df2.iloc[0])\n",
    "print(\"--------------\")\n",
    "print(df2.iloc[1, 0])  # Accessing the 'Name' of the second row\n",
    "print(\"--------------\")\n",
    "print(df2.iloc[0:2]) # access rows 0 to 2 not end-1 \n",
    "print(\"--------------\")\n",
    "print(df2.iloc[0:2, 0:1])\n",
    "\n",
    "df"
   ]
  },
  {
   "cell_type": "markdown",
   "id": "f9df9316",
   "metadata": {},
   "source": [
    "## Filtering and selection"
   ]
  },
  {
   "cell_type": "code",
   "execution_count": 42,
   "id": "f57b98c6",
   "metadata": {},
   "outputs": [
    {
     "name": "stdout",
     "output_type": "stream",
     "text": [
      "0    False\n",
      "1     True\n",
      "2     True\n",
      "Name: A, dtype: bool\n"
     ]
    },
    {
     "data": {
      "text/html": [
       "<div>\n",
       "<style scoped>\n",
       "    .dataframe tbody tr th:only-of-type {\n",
       "        vertical-align: middle;\n",
       "    }\n",
       "\n",
       "    .dataframe tbody tr th {\n",
       "        vertical-align: top;\n",
       "    }\n",
       "\n",
       "    .dataframe thead th {\n",
       "        text-align: right;\n",
       "    }\n",
       "</style>\n",
       "<table border=\"1\" class=\"dataframe\">\n",
       "  <thead>\n",
       "    <tr style=\"text-align: right;\">\n",
       "      <th></th>\n",
       "      <th>A</th>\n",
       "      <th>B</th>\n",
       "      <th>C</th>\n",
       "      <th>D</th>\n",
       "    </tr>\n",
       "  </thead>\n",
       "  <tbody>\n",
       "    <tr>\n",
       "      <th>0</th>\n",
       "      <td>1</td>\n",
       "      <td>x</td>\n",
       "      <td>0.50</td>\n",
       "      <td>0.5</td>\n",
       "    </tr>\n",
       "    <tr>\n",
       "      <th>1</th>\n",
       "      <td>2</td>\n",
       "      <td>y</td>\n",
       "      <td>0.75</td>\n",
       "      <td>1.5</td>\n",
       "    </tr>\n",
       "    <tr>\n",
       "      <th>2</th>\n",
       "      <td>3</td>\n",
       "      <td>z</td>\n",
       "      <td>1.00</td>\n",
       "      <td>3.0</td>\n",
       "    </tr>\n",
       "  </tbody>\n",
       "</table>\n",
       "</div>"
      ],
      "text/plain": [
       "   A  B     C    D\n",
       "0  1  x  0.50  0.5\n",
       "1  2  y  0.75  1.5\n",
       "2  3  z  1.00  3.0"
      ]
     },
     "execution_count": 42,
     "metadata": {},
     "output_type": "execute_result"
    }
   ],
   "source": [
    "print(df['A'] > 1)\n",
    "\n",
    "df['D'] = df['A'] * df['C']\n",
    "df"
   ]
  },
  {
   "cell_type": "markdown",
   "id": "73493166",
   "metadata": {},
   "source": [
    "## Removing null"
   ]
  },
  {
   "cell_type": "code",
   "execution_count": 54,
   "id": "12b9d64f",
   "metadata": {},
   "outputs": [
    {
     "name": "stdout",
     "output_type": "stream",
     "text": [
      "A    1\n",
      "B    1\n",
      "dtype: int64\n"
     ]
    },
    {
     "data": {
      "text/html": [
       "<div>\n",
       "<style scoped>\n",
       "    .dataframe tbody tr th:only-of-type {\n",
       "        vertical-align: middle;\n",
       "    }\n",
       "\n",
       "    .dataframe tbody tr th {\n",
       "        vertical-align: top;\n",
       "    }\n",
       "\n",
       "    .dataframe thead th {\n",
       "        text-align: right;\n",
       "    }\n",
       "</style>\n",
       "<table border=\"1\" class=\"dataframe\">\n",
       "  <thead>\n",
       "    <tr style=\"text-align: right;\">\n",
       "      <th></th>\n",
       "      <th>A</th>\n",
       "      <th>B</th>\n",
       "    </tr>\n",
       "  </thead>\n",
       "  <tbody>\n",
       "    <tr>\n",
       "      <th>0</th>\n",
       "      <td>1.0</td>\n",
       "      <td>3.0</td>\n",
       "    </tr>\n",
       "    <tr>\n",
       "      <th>1</th>\n",
       "      <td>NaN</td>\n",
       "      <td>2.0</td>\n",
       "    </tr>\n",
       "    <tr>\n",
       "      <th>2</th>\n",
       "      <td>3.0</td>\n",
       "      <td>NaN</td>\n",
       "    </tr>\n",
       "  </tbody>\n",
       "</table>\n",
       "</div>"
      ],
      "text/plain": [
       "     A    B\n",
       "0  1.0  3.0\n",
       "1  NaN  2.0\n",
       "2  3.0  NaN"
      ]
     },
     "execution_count": 54,
     "metadata": {},
     "output_type": "execute_result"
    }
   ],
   "source": [
    "df = pd.DataFrame({\n",
    "    'A' : [1, None, 3],\n",
    "    'B' : [3, 2, None]\n",
    "})\n",
    "\n",
    "print(df.isnull().sum())  # Count of null values in each column\n",
    "df"
   ]
  },
  {
   "cell_type": "code",
   "execution_count": 55,
   "id": "6ada949a",
   "metadata": {},
   "outputs": [
    {
     "data": {
      "text/html": [
       "<div>\n",
       "<style scoped>\n",
       "    .dataframe tbody tr th:only-of-type {\n",
       "        vertical-align: middle;\n",
       "    }\n",
       "\n",
       "    .dataframe tbody tr th {\n",
       "        vertical-align: top;\n",
       "    }\n",
       "\n",
       "    .dataframe thead th {\n",
       "        text-align: right;\n",
       "    }\n",
       "</style>\n",
       "<table border=\"1\" class=\"dataframe\">\n",
       "  <thead>\n",
       "    <tr style=\"text-align: right;\">\n",
       "      <th></th>\n",
       "      <th>A</th>\n",
       "      <th>B</th>\n",
       "    </tr>\n",
       "  </thead>\n",
       "  <tbody>\n",
       "    <tr>\n",
       "      <th>0</th>\n",
       "      <td>1.0</td>\n",
       "      <td>3.0</td>\n",
       "    </tr>\n",
       "  </tbody>\n",
       "</table>\n",
       "</div>"
      ],
      "text/plain": [
       "     A    B\n",
       "0  1.0  3.0"
      ]
     },
     "execution_count": 55,
     "metadata": {},
     "output_type": "execute_result"
    }
   ],
   "source": [
    "df2 = df.dropna()  # Drop rows with any null values\n",
    "df2"
   ]
  },
  {
   "cell_type": "markdown",
   "id": "712c5b2e",
   "metadata": {},
   "source": [
    "# Hands on"
   ]
  },
  {
   "cell_type": "code",
   "execution_count": null,
   "id": "216450a4",
   "metadata": {},
   "outputs": [
    {
     "name": "stdout",
     "output_type": "stream",
     "text": [
      "   StudentID       Name Gender  MathScore  ScienceScore  EnglishScore  \\\n",
      "0          1  Student_1      M         86            68          81.0   \n",
      "1          2  Student_2      F         90            96           NaN   \n",
      "\n",
      "   StudyHours Passed  \n",
      "0           6    Yes  \n",
      "1           7    Yes  \n",
      "------INFO--------\n",
      "<class 'pandas.core.frame.DataFrame'>\n",
      "RangeIndex: 50 entries, 0 to 49\n",
      "Data columns (total 8 columns):\n",
      " #   Column        Non-Null Count  Dtype  \n",
      "---  ------        --------------  -----  \n",
      " 0   StudentID     50 non-null     int64  \n",
      " 1   Name          50 non-null     object \n",
      " 2   Gender        50 non-null     object \n",
      " 3   MathScore     50 non-null     int64  \n",
      " 4   ScienceScore  50 non-null     int64  \n",
      " 5   EnglishScore  47 non-null     float64\n",
      " 6   StudyHours    50 non-null     int64  \n",
      " 7   Passed        50 non-null     object \n",
      "dtypes: float64(1), int64(4), object(3)\n",
      "memory usage: 3.2+ KB\n",
      "None\n",
      "------Describe--------\n",
      "       StudentID   MathScore  ScienceScore  EnglishScore  StudyHours\n",
      "count   50.00000   50.000000     50.000000     47.000000   50.000000\n",
      "mean    25.50000   70.780000     65.740000     66.851064    5.280000\n",
      "std     14.57738   19.699052     19.930297     21.125895    2.828716\n",
      "min      1.00000   41.000000     35.000000     30.000000    1.000000\n",
      "25%     13.25000   53.000000     48.000000     54.500000    3.000000\n",
      "50%     25.50000   74.500000     67.500000     68.000000    5.500000\n",
      "75%     37.75000   89.000000     80.500000     86.500000    7.000000\n",
      "max     50.00000  100.000000     99.000000    100.000000   10.000000\n",
      "--------------\n"
     ]
    }
   ],
   "source": [
    "import pandas as pd\n",
    "\n",
    "df = pd.read_csv('student_performance.csv')\n",
    "\n",
    "print(df.head(2))\n",
    "print(\"------INFO--------\")\n",
    "print(df.info())\n",
    "print(\"------Describe--------\")\n",
    "print(df.describe())\n",
    "print(\"--------------\")"
   ]
  },
  {
   "cell_type": "code",
   "execution_count": 72,
   "id": "c8100674",
   "metadata": {},
   "outputs": [
    {
     "name": "stdout",
     "output_type": "stream",
     "text": [
      "        Name  MathScore Passed\n",
      "0  Student_1         86    Yes\n",
      "1  Student_2         90    Yes\n",
      "2  Student_3         83    Yes\n",
      "3  Student_4         94    Yes\n",
      "4  Student_5         91    Yes\n",
      "----------------------------------------\n",
      "Passed Students: (48, 8)\n"
     ]
    }
   ],
   "source": [
    "subset  = df.loc[0:4 , ['Name','MathScore','Passed']]\n",
    "print(subset)\n",
    "\n",
    "print(\"----------------------------------------\")\n",
    "\n",
    "passed_students = df[df['Passed'] == 'Yes']\n",
    "print(\"Passed Students:\", passed_students.shape)"
   ]
  },
  {
   "cell_type": "code",
   "execution_count": 73,
   "id": "49b3c25f",
   "metadata": {},
   "outputs": [
    {
     "name": "stdout",
     "output_type": "stream",
     "text": [
      "StudentID       0\n",
      "Name            0\n",
      "Gender          0\n",
      "MathScore       0\n",
      "ScienceScore    0\n",
      "EnglishScore    3\n",
      "StudyHours      0\n",
      "Passed          0\n",
      "dtype: int64\n"
     ]
    }
   ],
   "source": [
    "print(df.isnull().sum())  # Count of null values in each column"
   ]
  },
  {
   "cell_type": "code",
   "execution_count": null,
   "id": "9908acf9",
   "metadata": {},
   "outputs": [
    {
     "name": "stdout",
     "output_type": "stream",
     "text": [
      "StudentID       0\n",
      "Name            0\n",
      "Gender          0\n",
      "MathScore       0\n",
      "ScienceScore    0\n",
      "EnglishScore    0\n",
      "StudyHours      0\n",
      "Passed          0\n",
      "dtype: int64\n"
     ]
    }
   ],
   "source": [
    "df_clean = df.dropna(subset=['EnglishScore'])  "
   ]
  },
  {
   "cell_type": "code",
   "execution_count": 94,
   "id": "9d3f84d6",
   "metadata": {},
   "outputs": [
    {
     "data": {
      "text/html": [
       "<div>\n",
       "<style scoped>\n",
       "    .dataframe tbody tr th:only-of-type {\n",
       "        vertical-align: middle;\n",
       "    }\n",
       "\n",
       "    .dataframe tbody tr th {\n",
       "        vertical-align: top;\n",
       "    }\n",
       "\n",
       "    .dataframe thead th {\n",
       "        text-align: right;\n",
       "    }\n",
       "</style>\n",
       "<table border=\"1\" class=\"dataframe\">\n",
       "  <thead>\n",
       "    <tr style=\"text-align: right;\">\n",
       "      <th></th>\n",
       "      <th>StudentID</th>\n",
       "      <th>Name</th>\n",
       "      <th>Gender</th>\n",
       "      <th>MathScore</th>\n",
       "      <th>ScienceScore</th>\n",
       "      <th>EnglishScore</th>\n",
       "      <th>HoursStudied</th>\n",
       "      <th>Passed</th>\n",
       "      <th>AverageScore</th>\n",
       "    </tr>\n",
       "  </thead>\n",
       "  <tbody>\n",
       "    <tr>\n",
       "      <th>0</th>\n",
       "      <td>1</td>\n",
       "      <td>Student_1</td>\n",
       "      <td>M</td>\n",
       "      <td>86</td>\n",
       "      <td>68</td>\n",
       "      <td>81.0</td>\n",
       "      <td>6</td>\n",
       "      <td>Yes</td>\n",
       "      <td>78.333333</td>\n",
       "    </tr>\n",
       "    <tr>\n",
       "      <th>2</th>\n",
       "      <td>3</td>\n",
       "      <td>Student_3</td>\n",
       "      <td>M</td>\n",
       "      <td>83</td>\n",
       "      <td>48</td>\n",
       "      <td>52.0</td>\n",
       "      <td>5</td>\n",
       "      <td>Yes</td>\n",
       "      <td>61.000000</td>\n",
       "    </tr>\n",
       "    <tr>\n",
       "      <th>3</th>\n",
       "      <td>4</td>\n",
       "      <td>Student_4</td>\n",
       "      <td>M</td>\n",
       "      <td>94</td>\n",
       "      <td>82</td>\n",
       "      <td>44.0</td>\n",
       "      <td>1</td>\n",
       "      <td>Yes</td>\n",
       "      <td>73.333333</td>\n",
       "    </tr>\n",
       "    <tr>\n",
       "      <th>4</th>\n",
       "      <td>5</td>\n",
       "      <td>Student_5</td>\n",
       "      <td>M</td>\n",
       "      <td>91</td>\n",
       "      <td>49</td>\n",
       "      <td>72.0</td>\n",
       "      <td>1</td>\n",
       "      <td>Yes</td>\n",
       "      <td>70.666667</td>\n",
       "    </tr>\n",
       "    <tr>\n",
       "      <th>5</th>\n",
       "      <td>6</td>\n",
       "      <td>Student_6</td>\n",
       "      <td>F</td>\n",
       "      <td>96</td>\n",
       "      <td>96</td>\n",
       "      <td>58.0</td>\n",
       "      <td>3</td>\n",
       "      <td>Yes</td>\n",
       "      <td>83.333333</td>\n",
       "    </tr>\n",
       "  </tbody>\n",
       "</table>\n",
       "</div>"
      ],
      "text/plain": [
       "   StudentID       Name Gender  MathScore  ScienceScore  EnglishScore  \\\n",
       "0          1  Student_1      M         86            68          81.0   \n",
       "2          3  Student_3      M         83            48          52.0   \n",
       "3          4  Student_4      M         94            82          44.0   \n",
       "4          5  Student_5      M         91            49          72.0   \n",
       "5          6  Student_6      F         96            96          58.0   \n",
       "\n",
       "   HoursStudied Passed  AverageScore  \n",
       "0             6    Yes     78.333333  \n",
       "2             5    Yes     61.000000  \n",
       "3             1    Yes     73.333333  \n",
       "4             1    Yes     70.666667  \n",
       "5             3    Yes     83.333333  "
      ]
     },
     "execution_count": 94,
     "metadata": {},
     "output_type": "execute_result"
    }
   ],
   "source": [
    "df_clean = df_clean.rename(columns={'StudyHours': 'HoursStudied'})\n",
    "df_clean['HoursStudied'] = df_clean['HoursStudied'].astype(int)\n",
    "\n",
    "df_clean.head(5)"
   ]
  },
  {
   "cell_type": "code",
   "execution_count": 96,
   "id": "eeac6306",
   "metadata": {},
   "outputs": [
    {
     "data": {
      "text/html": [
       "<div>\n",
       "<style scoped>\n",
       "    .dataframe tbody tr th:only-of-type {\n",
       "        vertical-align: middle;\n",
       "    }\n",
       "\n",
       "    .dataframe tbody tr th {\n",
       "        vertical-align: top;\n",
       "    }\n",
       "\n",
       "    .dataframe thead th {\n",
       "        text-align: right;\n",
       "    }\n",
       "</style>\n",
       "<table border=\"1\" class=\"dataframe\">\n",
       "  <thead>\n",
       "    <tr style=\"text-align: right;\">\n",
       "      <th></th>\n",
       "      <th>StudentID</th>\n",
       "      <th>Name</th>\n",
       "      <th>Gender</th>\n",
       "      <th>MathScore</th>\n",
       "      <th>ScienceScore</th>\n",
       "      <th>EnglishScore</th>\n",
       "      <th>HoursStudied</th>\n",
       "      <th>Passed</th>\n",
       "      <th>AverageScore</th>\n",
       "    </tr>\n",
       "  </thead>\n",
       "  <tbody>\n",
       "    <tr>\n",
       "      <th>0</th>\n",
       "      <td>1</td>\n",
       "      <td>Student_1</td>\n",
       "      <td>M</td>\n",
       "      <td>86</td>\n",
       "      <td>68</td>\n",
       "      <td>81.0</td>\n",
       "      <td>6</td>\n",
       "      <td>Yes</td>\n",
       "      <td>78.333333</td>\n",
       "    </tr>\n",
       "    <tr>\n",
       "      <th>2</th>\n",
       "      <td>3</td>\n",
       "      <td>Student_3</td>\n",
       "      <td>M</td>\n",
       "      <td>83</td>\n",
       "      <td>48</td>\n",
       "      <td>52.0</td>\n",
       "      <td>5</td>\n",
       "      <td>Yes</td>\n",
       "      <td>61.000000</td>\n",
       "    </tr>\n",
       "    <tr>\n",
       "      <th>3</th>\n",
       "      <td>4</td>\n",
       "      <td>Student_4</td>\n",
       "      <td>M</td>\n",
       "      <td>94</td>\n",
       "      <td>82</td>\n",
       "      <td>44.0</td>\n",
       "      <td>1</td>\n",
       "      <td>Yes</td>\n",
       "      <td>73.333333</td>\n",
       "    </tr>\n",
       "    <tr>\n",
       "      <th>4</th>\n",
       "      <td>5</td>\n",
       "      <td>Student_5</td>\n",
       "      <td>M</td>\n",
       "      <td>91</td>\n",
       "      <td>49</td>\n",
       "      <td>72.0</td>\n",
       "      <td>1</td>\n",
       "      <td>Yes</td>\n",
       "      <td>70.666667</td>\n",
       "    </tr>\n",
       "    <tr>\n",
       "      <th>5</th>\n",
       "      <td>6</td>\n",
       "      <td>Student_6</td>\n",
       "      <td>F</td>\n",
       "      <td>96</td>\n",
       "      <td>96</td>\n",
       "      <td>58.0</td>\n",
       "      <td>3</td>\n",
       "      <td>Yes</td>\n",
       "      <td>83.333333</td>\n",
       "    </tr>\n",
       "  </tbody>\n",
       "</table>\n",
       "</div>"
      ],
      "text/plain": [
       "   StudentID       Name Gender  MathScore  ScienceScore  EnglishScore  \\\n",
       "0          1  Student_1      M         86            68          81.0   \n",
       "2          3  Student_3      M         83            48          52.0   \n",
       "3          4  Student_4      M         94            82          44.0   \n",
       "4          5  Student_5      M         91            49          72.0   \n",
       "5          6  Student_6      F         96            96          58.0   \n",
       "\n",
       "   HoursStudied Passed  AverageScore  \n",
       "0             6    Yes     78.333333  \n",
       "2             5    Yes     61.000000  \n",
       "3             1    Yes     73.333333  \n",
       "4             1    Yes     70.666667  \n",
       "5             3    Yes     83.333333  "
      ]
     },
     "execution_count": 96,
     "metadata": {},
     "output_type": "execute_result"
    }
   ],
   "source": [
    "df_clean['AverageScore'] = df_clean[['MathScore', 'ScienceScore', 'EnglishScore']].mean(axis=1)\n",
    "\n",
    "df_clean.head(5)"
   ]
  },
  {
   "cell_type": "code",
   "execution_count": 97,
   "id": "f2e38de7",
   "metadata": {},
   "outputs": [
    {
     "data": {
      "text/html": [
       "<div>\n",
       "<style scoped>\n",
       "    .dataframe tbody tr th:only-of-type {\n",
       "        vertical-align: middle;\n",
       "    }\n",
       "\n",
       "    .dataframe tbody tr th {\n",
       "        vertical-align: top;\n",
       "    }\n",
       "\n",
       "    .dataframe thead th {\n",
       "        text-align: right;\n",
       "    }\n",
       "</style>\n",
       "<table border=\"1\" class=\"dataframe\">\n",
       "  <thead>\n",
       "    <tr style=\"text-align: right;\">\n",
       "      <th></th>\n",
       "      <th>StudentID</th>\n",
       "      <th>Name</th>\n",
       "      <th>Gender</th>\n",
       "      <th>MathScore</th>\n",
       "      <th>ScienceScore</th>\n",
       "      <th>EnglishScore</th>\n",
       "      <th>HoursStudied</th>\n",
       "      <th>Passed</th>\n",
       "      <th>AverageScore</th>\n",
       "    </tr>\n",
       "  </thead>\n",
       "  <tbody>\n",
       "    <tr>\n",
       "      <th>38</th>\n",
       "      <td>39</td>\n",
       "      <td>Student_39</td>\n",
       "      <td>M</td>\n",
       "      <td>79</td>\n",
       "      <td>99</td>\n",
       "      <td>81.0</td>\n",
       "      <td>7</td>\n",
       "      <td>Yes</td>\n",
       "      <td>86.333333</td>\n",
       "    </tr>\n",
       "    <tr>\n",
       "      <th>15</th>\n",
       "      <td>16</td>\n",
       "      <td>Student_16</td>\n",
       "      <td>M</td>\n",
       "      <td>64</td>\n",
       "      <td>99</td>\n",
       "      <td>91.0</td>\n",
       "      <td>6</td>\n",
       "      <td>Yes</td>\n",
       "      <td>84.666667</td>\n",
       "    </tr>\n",
       "    <tr>\n",
       "      <th>22</th>\n",
       "      <td>23</td>\n",
       "      <td>Student_23</td>\n",
       "      <td>F</td>\n",
       "      <td>92</td>\n",
       "      <td>69</td>\n",
       "      <td>91.0</td>\n",
       "      <td>1</td>\n",
       "      <td>Yes</td>\n",
       "      <td>84.000000</td>\n",
       "    </tr>\n",
       "    <tr>\n",
       "      <th>26</th>\n",
       "      <td>27</td>\n",
       "      <td>Student_27</td>\n",
       "      <td>F</td>\n",
       "      <td>86</td>\n",
       "      <td>75</td>\n",
       "      <td>91.0</td>\n",
       "      <td>4</td>\n",
       "      <td>Yes</td>\n",
       "      <td>84.000000</td>\n",
       "    </tr>\n",
       "    <tr>\n",
       "      <th>19</th>\n",
       "      <td>20</td>\n",
       "      <td>Student_20</td>\n",
       "      <td>M</td>\n",
       "      <td>97</td>\n",
       "      <td>97</td>\n",
       "      <td>57.0</td>\n",
       "      <td>2</td>\n",
       "      <td>Yes</td>\n",
       "      <td>83.666667</td>\n",
       "    </tr>\n",
       "  </tbody>\n",
       "</table>\n",
       "</div>"
      ],
      "text/plain": [
       "    StudentID        Name Gender  MathScore  ScienceScore  EnglishScore  \\\n",
       "38         39  Student_39      M         79            99          81.0   \n",
       "15         16  Student_16      M         64            99          91.0   \n",
       "22         23  Student_23      F         92            69          91.0   \n",
       "26         27  Student_27      F         86            75          91.0   \n",
       "19         20  Student_20      M         97            97          57.0   \n",
       "\n",
       "    HoursStudied Passed  AverageScore  \n",
       "38             7    Yes     86.333333  \n",
       "15             6    Yes     84.666667  \n",
       "22             1    Yes     84.000000  \n",
       "26             4    Yes     84.000000  \n",
       "19             2    Yes     83.666667  "
      ]
     },
     "execution_count": 97,
     "metadata": {},
     "output_type": "execute_result"
    }
   ],
   "source": [
    "df_sorted = df_clean.sort_values(by='AverageScore', ascending=False)\n",
    "df_sorted.head(5)"
   ]
  },
  {
   "cell_type": "code",
   "execution_count": 98,
   "id": "7e39cb45",
   "metadata": {},
   "outputs": [],
   "source": [
    "df_sorted.to_csv('cleaned_student_performance.csv', index=False)"
   ]
  }
 ],
 "metadata": {
  "kernelspec": {
   "display_name": "Python 3",
   "language": "python",
   "name": "python3"
  },
  "language_info": {
   "codemirror_mode": {
    "name": "ipython",
    "version": 3
   },
   "file_extension": ".py",
   "mimetype": "text/x-python",
   "name": "python",
   "nbconvert_exporter": "python",
   "pygments_lexer": "ipython3",
   "version": "3.9.0"
  }
 },
 "nbformat": 4,
 "nbformat_minor": 5
}
