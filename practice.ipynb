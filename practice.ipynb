{
 "cells": [
  {
   "cell_type": "code",
   "execution_count": 1,
   "id": "e64cdf18",
   "metadata": {},
   "outputs": [
    {
     "name": "stdout",
     "output_type": "stream",
     "text": [
      "   StudentID       Name Gender    Class Region    ExamDate  MathScore  \\\n",
      "0          1  Student_1      M  Class_B  South  03-03-2025         53   \n",
      "1          2  Student_2      F  Class_C  South  27-03-2025         45   \n",
      "\n",
      "   ScienceScore  EnglishScore  StudyHours  AttendancePercent  \n",
      "0            91            59           5               95.4  \n",
      "1            62            47           3               74.1  \n",
      "------INFO--------\n",
      "<class 'pandas.core.frame.DataFrame'>\n",
      "RangeIndex: 100 entries, 0 to 99\n",
      "Data columns (total 11 columns):\n",
      " #   Column             Non-Null Count  Dtype  \n",
      "---  ------             --------------  -----  \n",
      " 0   StudentID          100 non-null    int64  \n",
      " 1   Name               100 non-null    object \n",
      " 2   Gender             100 non-null    object \n",
      " 3   Class              100 non-null    object \n",
      " 4   Region             100 non-null    object \n",
      " 5   ExamDate           100 non-null    object \n",
      " 6   MathScore          100 non-null    int64  \n",
      " 7   ScienceScore       100 non-null    int64  \n",
      " 8   EnglishScore       100 non-null    int64  \n",
      " 9   StudyHours         100 non-null    int64  \n",
      " 10  AttendancePercent  100 non-null    float64\n",
      "dtypes: float64(1), int64(5), object(5)\n",
      "memory usage: 8.7+ KB\n",
      "None\n",
      "------Describe--------\n",
      "        StudentID   MathScore  ScienceScore  EnglishScore  StudyHours  \\\n",
      "count  100.000000  100.000000    100.000000    100.000000  100.000000   \n",
      "mean    50.500000   72.560000     67.850000     71.090000    5.370000   \n",
      "std     29.011492   18.278607     18.205546     17.194135    2.809274   \n",
      "min      1.000000   40.000000     40.000000     40.000000    1.000000   \n",
      "25%     25.750000   56.000000     49.000000     55.750000    3.000000   \n",
      "50%     50.500000   73.000000     69.000000     72.000000    5.500000   \n",
      "75%     75.250000   90.250000     83.000000     85.000000    7.250000   \n",
      "max    100.000000  100.000000    100.000000    100.000000   10.000000   \n",
      "\n",
      "       AttendancePercent  \n",
      "count         100.000000  \n",
      "mean           80.909000  \n",
      "std            11.678393  \n",
      "min            60.300000  \n",
      "25%            71.900000  \n",
      "50%            81.600000  \n",
      "75%            89.125000  \n",
      "max            99.600000  \n",
      "--------------\n"
     ]
    }
   ],
   "source": [
    "import pandas as pd\n",
    "\n",
    "df = pd.read_csv('student_records.csv')\n",
    "\n",
    "print(df.head(2))\n",
    "print(\"------INFO--------\")\n",
    "print(df.info())\n",
    "print(\"------Describe--------\")\n",
    "print(df.describe())\n",
    "print(\"--------------\")"
   ]
  }
 ],
 "metadata": {
  "kernelspec": {
   "display_name": "Python 3",
   "language": "python",
   "name": "python3"
  },
  "language_info": {
   "codemirror_mode": {
    "name": "ipython",
    "version": 3
   },
   "file_extension": ".py",
   "mimetype": "text/x-python",
   "name": "python",
   "nbconvert_exporter": "python",
   "pygments_lexer": "ipython3",
   "version": "3.9.0"
  }
 },
 "nbformat": 4,
 "nbformat_minor": 5
}
